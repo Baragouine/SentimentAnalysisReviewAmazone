{
  "nbformat": 4,
  "nbformat_minor": 0,
  "metadata": {
    "colab": {
      "provenance": []
    },
    "kernelspec": {
      "name": "python3",
      "display_name": "Python 3"
    },
    "language_info": {
      "name": "python"
    }
  },
  "cells": [
    {
      "cell_type": "code",
      "execution_count": null,
      "metadata": {
        "id": "bBK4Ica9t92g"
      },
      "outputs": [],
      "source": [
        "from polyglot.detect import Detector\n",
        "from polyglot.detect.base import logger as polyglot_logger\n",
        "import pandas as pd\n",
        "from pyspark.sql import SparkSession\n",
        "#import findspark"
      ]
    },
    {
      "cell_type": "code",
      "source": [
        "polyglot_logger.setLevel(\"ERROR\")"
      ],
      "metadata": {
        "id": "TJYap2mAuS_j"
      },
      "execution_count": null,
      "outputs": []
    },
    {
      "cell_type": "markdown",
      "source": [
        "## Create Session"
      ],
      "metadata": {
        "id": "xyoiuhE13Zac"
      }
    },
    {
      "cell_type": "code",
      "source": [
        "spark = SparkSession.builder.master('local[*]').config(\"spark.driver.memory\", \"16g\").appName(\"ML2\").getOrCreate()"
      ],
      "metadata": {
        "colab": {
          "base_uri": "https://localhost:8080/"
        },
        "id": "5OqDEGLC3owb",
        "outputId": "29190aa0-0085-4de1-a2d0-e579755219bd"
      },
      "execution_count": null,
      "outputs": [
        {
          "output_type": "stream",
          "name": "stderr",
          "text": [
            "23/01/24 23:38:53 WARN Utils: Your hostname, ares resolves to a loopback address: 127.0.1.1; using 192.168.1.181 instead (on interface enp4s0)\n",
            "23/01/24 23:38:53 WARN Utils: Set SPARK_LOCAL_IP if you need to bind to another address\n",
            "WARNING: An illegal reflective access operation has occurred\n",
            "WARNING: Illegal reflective access by org.apache.spark.unsafe.Platform (file:/home/rsaid/anaconda3/lib/python3.9/site-packages/pyspark/jars/spark-unsafe_2.12-3.2.1.jar) to constructor java.nio.DirectByteBuffer(long,int)\n",
            "WARNING: Please consider reporting this to the maintainers of org.apache.spark.unsafe.Platform\n",
            "WARNING: Use --illegal-access=warn to enable warnings of further illegal reflective access operations\n",
            "WARNING: All illegal access operations will be denied in a future release\n",
            "Using Spark's default log4j profile: org/apache/spark/log4j-defaults.properties\n",
            "Setting default log level to \"WARN\".\n",
            "To adjust logging level use sc.setLogLevel(newLevel). For SparkR, use setLogLevel(newLevel).\n",
            "23/01/24 23:38:54 WARN NativeCodeLoader: Unable to load native-hadoop library for your platform... using builtin-java classes where applicable\n"
          ]
        }
      ]
    },
    {
      "cell_type": "markdown",
      "source": [
        "## Load data"
      ],
      "metadata": {
        "id": "s6PkgRqA4n2F"
      }
    },
    {
      "cell_type": "code",
      "source": [
        "df_review = spark.read.json('./item_dedup.json')\n",
        "df_review.createOrReplaceTempView('review')\n",
        "df_article = spark.read.json('./metadata.json')\n",
        "df_article.createOrReplaceTempView('article')"
      ],
      "metadata": {
        "id": "5E0DWPBDzvAc",
        "colab": {
          "base_uri": "https://localhost:8080/"
        },
        "outputId": "930309eb-605d-4a8b-ddfa-281e0998f5d0"
      },
      "execution_count": null,
      "outputs": [
        {
          "output_type": "stream",
          "name": "stderr",
          "text": []
        }
      ]
    },
    {
      "cell_type": "markdown",
      "source": [
        "## View"
      ],
      "metadata": {
        "id": "3aBMOC5c4xc8"
      }
    },
    {
      "cell_type": "code",
      "source": [
        "df_review.show(n = 10)"
      ],
      "metadata": {
        "colab": {
          "base_uri": "https://localhost:8080/"
        },
        "id": "6Fv5Pt1k4Aog",
        "outputId": "6f1ad644-50a5-406f-8259-642d9587ad63"
      },
      "execution_count": null,
      "outputs": [
        {
          "output_type": "stream",
          "name": "stdout",
          "text": [
            "+----------+--------+-------+--------------------+-----------+--------------+--------------------+--------------------+--------------+\n",
            "|      asin| helpful|overall|          reviewText| reviewTime|    reviewerID|        reviewerName|             summary|unixReviewTime|\n",
            "+----------+--------+-------+--------------------+-----------+--------------+--------------------+--------------------+--------------+\n",
            "|0000000078|  [1, 1]|    5.0|Conversations wit...|08 11, 2004|A3AF8FFZAZYNE5|                null|          Impactful!|    1092182400|\n",
            "|0000000116|  [5, 5]|    4.0|Interesting Grish...|04 27, 2002| AH2L9G3DQHHAJ|               chris|  Show me the money!|    1019865600|\n",
            "|0000000116|  [0, 0]|    1.0|The thumbnail is ...|03 24, 2014|A2IIIDRK3PRRZY|              Helene|Listing is all sc...|    1395619200|\n",
            "|0000000868|[10, 10]|    4.0|I'll be honest. I...|09 11, 2002|A1TADCM7YWPQ8M|            Joel@AWS|Not a Bad Transla...|    1031702400|\n",
            "|0000013714|  [0, 0]|    4.0|It had all the so...|10 31, 2013| AWGH7V0BDOJKB|    Barbara Marshall| Not the large print|    1383177600|\n",
            "|0000013714|  [0, 0]|    5.0|We have many of t...|07 27, 2013|A3UTQPQPM4TQO0|       betty burnett|I was disappointe...|    1374883200|\n",
            "|0000013714|  [0, 0]|    5.0|I love this book....| 03 1, 2014| A8ZS0I5L5V31B|Ephraim O. Nwabuokei|    GREAT HYMN BOOK!|    1393632000|\n",
            "|0000013714|  [0, 0]|    4.0|We use this type ...| 12 3, 2013| ACNGUPJ3A3TM9|                 GCM|         Nice Hymnal|    1386028800|\n",
            "|0000013714|  [0, 0]|    4.0|Heavenly Highway ...|10 16, 2012|A3BED5QFJWK88M|              jimedd|Heavenly Highway ...|    1350345600|\n",
            "|0000013714|  [2, 3]|    5.0|I bought this for...|09 13, 2009|A2SUAM1J3GNN3B|         J. McDonald|Heavenly Highway ...|    1252800000|\n",
            "+----------+--------+-------+--------------------+-----------+--------------+--------------------+--------------------+--------------+\n",
            "only showing top 10 rows\n",
            "\n"
          ]
        }
      ]
    },
    {
      "cell_type": "code",
      "source": [
        "df_article.show(n=10)"
      ],
      "metadata": {
        "colab": {
          "base_uri": "https://localhost:8080/"
        },
        "id": "xUQ_0yZN6VmN",
        "outputId": "54381143-0dc8-4d85-eb6e-28043426a75a"
      },
      "execution_count": null,
      "outputs": [
        {
          "output_type": "stream",
          "name": "stdout",
          "text": [
            "+---------------+----------+----------+--------------------+--------------------+--------------------+-----+--------------------+--------------------+--------------------+\n",
            "|_corrupt_record|      asin|     brand|          categories|         description|               imUrl|price|             related|           salesRank|               title|\n",
            "+---------------+----------+----------+--------------------+--------------------+--------------------+-----+--------------------+--------------------+--------------------+\n",
            "|           null|0001048791|      null|           [[Books]]|                null|http://ecx.images...| null|                null|{null, null, null...|The Crucible: Per...|\n",
            "|           null|0000143561|      null|[[Movies & TV, Mo...|3Pack DVD set - I...|http://g-ecx.imag...|12.99|{null, [B0036FO6S...|{null, null, null...|Everyday Italian ...|\n",
            "|           null|0000037214|Big Dreams|[[Clothing, Shoes...|                null|http://ecx.images...| 6.99|{null, [B00JO8II7...|{null, null, null...|Purple Sequin Tin...|\n",
            "|           null|0000032069|  BubuBibi|[[Sports & Outdoo...|                null|http://ecx.images...| 7.89|{[0000032050, B00...|                null|Adult Ballet Tutu...|\n",
            "|           null|0000031909|   Unknown|[[Sports & Outdoo...|High quality 3 la...|http://ecx.images...|  7.0|{[B002BZX8Z6, B00...|{null, null, null...|Girls Ballet Tutu...|\n",
            "|           null|0000032034|  BubuBibi|[[Sports & Outdoo...|                null|http://ecx.images...| 7.87|{[B00D2JSRFQ, 000...|                null|Adult Ballet Tutu...|\n",
            "|           null|0000589012|      null|[[Movies & TV, Mo...|                null|http://ecx.images...|15.95|{[B000Z3N1HQ, 057...|{null, null, null...|Why Don't They Ju...|\n",
            "|           null|0001048775|      null|           [[Books]]|William Shakespea...|http://ecx.images...| null|                null|{null, null, null...|Measure for Measu...|\n",
            "|           null|0000031852|  Coxlures|[[Sports & Outdoo...|                TUtu|http://ecx.images...| 3.17|{[B00JHONN1S, B00...|{null, null, null...|Girls Ballet Tutu...|\n",
            "|           null|0001048236|      null|           [[Books]]|&#34;One thing is...|http://ecx.images...| 9.26|{null, [144230019...|{null, null, null...|The Sherlock Holm...|\n",
            "+---------------+----------+----------+--------------------+--------------------+--------------------+-----+--------------------+--------------------+--------------------+\n",
            "only showing top 10 rows\n",
            "\n"
          ]
        }
      ]
    },
    {
      "cell_type": "code",
      "source": [
        "df_sample_review = df_review.sample(0.0101, 1)"
      ],
      "metadata": {
        "id": "IoGHxgmp9rs1"
      },
      "execution_count": null,
      "outputs": []
    },
    {
      "cell_type": "code",
      "source": [
        "df_sample_review.createOrReplaceTempView('review_sample')"
      ],
      "metadata": {
        "id": "qeA0WpVT_27m"
      },
      "execution_count": null,
      "outputs": []
    },
    {
      "cell_type": "code",
      "source": [
        "res = spark.sql('SELECT a.title, s.* FROM review_sample s INNER JOIN (SELECT asin, title FROM article ORDER BY asin) AS a ON s.asin = a.asin')"
      ],
      "metadata": {
        "id": "r7RUYmTz45nW"
      },
      "execution_count": null,
      "outputs": []
    },
    {
      "cell_type": "code",
      "source": [
        "res.show(n=10)"
      ],
      "metadata": {
        "colab": {
          "base_uri": "https://localhost:8080/"
        },
        "id": "grt7aeTO76XP",
        "outputId": "51a110b8-1db3-469e-d4ba-55bdac6a20f5"
      },
      "execution_count": null,
      "outputs": [
        {
          "output_type": "stream",
          "name": "stderr",
          "text": []
        },
        {
          "output_type": "stream",
          "name": "stdout",
          "text": [
            "+--------------------+----------+--------+-------+--------------------+-----------+--------------+--------------------+--------------------+--------------+\n",
            "|               title|      asin| helpful|overall|          reviewText| reviewTime|    reviewerID|        reviewerName|             summary|unixReviewTime|\n",
            "+--------------------+----------+--------+-------+--------------------+-----------+--------------+--------------------+--------------------+--------------+\n",
            "|Adult Ballet Tutu...|0000032034|[11, 12]|    5.0|Purchased and wor...|09 10, 2013|A2MPIVS0KSY8O0|               Sonja|               Tutus|    1378771200|\n",
            "| Along Came a Spider|0006476155|  [0, 0]|    5.0|Great development...|01 14, 2013|A37QDGQ90TLQQX|     Albert Wimberly|Great character d...|    1358121600|\n",
            "| Along Came a Spider|0006476155|  [0, 0]|    4.0|Always a true fan...| 01 5, 2014|A3S8MFLN2HZ7RI|          footsie517|          Love it!!!|    1388880000|\n",
            "| Along Came a Spider|0006476155|  [0, 0]|    5.0|I enjoy a good my...|02 21, 2014| AB4KMVNE4MSA3|        Jane Baldwin| Good detective book|    1392940800|\n",
            "| Along Came a Spider|0006476155| [9, 10]|    5.0|Ditto to all the ...|04 11, 2001|A3F4PVESHV9947|           K. Walton|My Top 10 of All ...|     986947200|\n",
            "| Along Came a Spider|0006476155|  [0, 0]|    3.0|I picked up this ...| 08 9, 2013|A39H6B5PJQYLBM|                Paul|    Good, not great.|    1376006400|\n",
            "| Along Came a Spider|0006476155|  [0, 0]|    5.0|I love the Alex C...|05 10, 2013| AOO0A8V4HE79V|   Phyllis Pritchard|ALEX CROSS IS THE...|    1368144000|\n",
            "| Along Came a Spider|0006476155|  [0, 0]|    4.0|This is the first...| 09 3, 2009|A2YLBDY64IGTBJ|Ruth Thompson \"We...|          Alex Cross|    1251936000|\n",
            "|Along the Wall an...|0006531113|  [3, 3]|    2.0|This book is only...|11 21, 2000| ATIF9VLMIZY8W|          ROY L WEBB|The book is reall...|     974764800|\n",
            "|Dreams of Iron an...|0007163061|  [6, 6]|    3.0|DREAMS OF IRON AN...|05 18, 2004| AEC46NVS07MJ9|        charles falk|        HISTORY LITE|    1084838400|\n",
            "+--------------------+----------+--------+-------+--------------------+-----------+--------------+--------------------+--------------------+--------------+\n",
            "only showing top 10 rows\n",
            "\n"
          ]
        },
        {
          "output_type": "stream",
          "name": "stderr",
          "text": [
            "\r                                                                                \r"
          ]
        }
      ]
    },
    {
      "cell_type": "code",
      "source": [
        "df_sample = res.toPandas()"
      ],
      "metadata": {
        "id": "uMkVIBivwd9U",
        "colab": {
          "base_uri": "https://localhost:8080/"
        },
        "outputId": "3af9d5ee-bdd3-4ba3-c20c-c953d87e5e67"
      },
      "execution_count": null,
      "outputs": [
        {
          "output_type": "stream",
          "name": "stderr",
          "text": []
        }
      ]
    },
    {
      "cell_type": "code",
      "source": [
        "df_sample.head(3)"
      ],
      "metadata": {
        "colab": {
          "base_uri": "https://localhost:8080/",
          "height": 265
        },
        "id": "snGcH__IHhoS",
        "outputId": "73426776-d0cf-4173-a48e-e46e9f77dbaf"
      },
      "execution_count": null,
      "outputs": [
        {
          "output_type": "execute_result",
          "data": {
            "text/plain": [
              "                      title        asin   helpful  overall  \\\n",
              "0  Adult Ballet Tutu Yellow  0000032034  [11, 12]      5.0   \n",
              "1       Along Came a Spider  0006476155    [0, 0]      5.0   \n",
              "2       Along Came a Spider  0006476155    [0, 0]      4.0   \n",
              "\n",
              "                                          reviewText   reviewTime  \\\n",
              "0  Purchased and wore these tutus for the Portlan...  09 10, 2013   \n",
              "1  Great development of characters, you begin to ...  01 14, 2013   \n",
              "2  Always a true fan of James Patterson. He knows...   01 5, 2014   \n",
              "\n",
              "       reviewerID     reviewerName  \\\n",
              "0  A2MPIVS0KSY8O0            Sonja   \n",
              "1  A37QDGQ90TLQQX  Albert Wimberly   \n",
              "2  A3S8MFLN2HZ7RI       footsie517   \n",
              "\n",
              "                                             summary  unixReviewTime  \n",
              "0                                              Tutus      1378771200  \n",
              "1  Great character development / compelling case ...      1358121600  \n",
              "2                                         Love it!!!      1388880000  "
            ],
            "text/html": [
              "<div>\n",
              "<style scoped>\n",
              "    .dataframe tbody tr th:only-of-type {\n",
              "        vertical-align: middle;\n",
              "    }\n",
              "\n",
              "    .dataframe tbody tr th {\n",
              "        vertical-align: top;\n",
              "    }\n",
              "\n",
              "    .dataframe thead th {\n",
              "        text-align: right;\n",
              "    }\n",
              "</style>\n",
              "<table border=\"1\" class=\"dataframe\">\n",
              "  <thead>\n",
              "    <tr style=\"text-align: right;\">\n",
              "      <th></th>\n",
              "      <th>title</th>\n",
              "      <th>asin</th>\n",
              "      <th>helpful</th>\n",
              "      <th>overall</th>\n",
              "      <th>reviewText</th>\n",
              "      <th>reviewTime</th>\n",
              "      <th>reviewerID</th>\n",
              "      <th>reviewerName</th>\n",
              "      <th>summary</th>\n",
              "      <th>unixReviewTime</th>\n",
              "    </tr>\n",
              "  </thead>\n",
              "  <tbody>\n",
              "    <tr>\n",
              "      <th>0</th>\n",
              "      <td>Adult Ballet Tutu Yellow</td>\n",
              "      <td>0000032034</td>\n",
              "      <td>[11, 12]</td>\n",
              "      <td>5.0</td>\n",
              "      <td>Purchased and wore these tutus for the Portlan...</td>\n",
              "      <td>09 10, 2013</td>\n",
              "      <td>A2MPIVS0KSY8O0</td>\n",
              "      <td>Sonja</td>\n",
              "      <td>Tutus</td>\n",
              "      <td>1378771200</td>\n",
              "    </tr>\n",
              "    <tr>\n",
              "      <th>1</th>\n",
              "      <td>Along Came a Spider</td>\n",
              "      <td>0006476155</td>\n",
              "      <td>[0, 0]</td>\n",
              "      <td>5.0</td>\n",
              "      <td>Great development of characters, you begin to ...</td>\n",
              "      <td>01 14, 2013</td>\n",
              "      <td>A37QDGQ90TLQQX</td>\n",
              "      <td>Albert Wimberly</td>\n",
              "      <td>Great character development / compelling case ...</td>\n",
              "      <td>1358121600</td>\n",
              "    </tr>\n",
              "    <tr>\n",
              "      <th>2</th>\n",
              "      <td>Along Came a Spider</td>\n",
              "      <td>0006476155</td>\n",
              "      <td>[0, 0]</td>\n",
              "      <td>4.0</td>\n",
              "      <td>Always a true fan of James Patterson. He knows...</td>\n",
              "      <td>01 5, 2014</td>\n",
              "      <td>A3S8MFLN2HZ7RI</td>\n",
              "      <td>footsie517</td>\n",
              "      <td>Love it!!!</td>\n",
              "      <td>1388880000</td>\n",
              "    </tr>\n",
              "  </tbody>\n",
              "</table>\n",
              "</div>"
            ]
          },
          "metadata": {},
          "execution_count": 25
        }
      ]
    },
    {
      "cell_type": "code",
      "source": [
        "try:\n",
        "  df_sample.drop(columns=['as)n'], inplace=True)\n",
        "except:\n",
        "  pass"
      ],
      "metadata": {
        "id": "iTRVIkEcHzia"
      },
      "execution_count": null,
      "outputs": []
    },
    {
      "cell_type": "code",
      "source": [
        "df_sample.head(3)"
      ],
      "metadata": {
        "colab": {
          "base_uri": "https://localhost:8080/",
          "height": 265
        },
        "id": "HCEkwr9AH7C5",
        "outputId": "c867c0bb-ca12-4c38-dffa-24b8098f220b"
      },
      "execution_count": null,
      "outputs": [
        {
          "output_type": "execute_result",
          "data": {
            "text/plain": [
              "                      title        asin   helpful  overall  \\\n",
              "0  Adult Ballet Tutu Yellow  0000032034  [11, 12]      5.0   \n",
              "1       Along Came a Spider  0006476155    [0, 0]      5.0   \n",
              "2       Along Came a Spider  0006476155    [0, 0]      4.0   \n",
              "\n",
              "                                          reviewText   reviewTime  \\\n",
              "0  Purchased and wore these tutus for the Portlan...  09 10, 2013   \n",
              "1  Great development of characters, you begin to ...  01 14, 2013   \n",
              "2  Always a true fan of James Patterson. He knows...   01 5, 2014   \n",
              "\n",
              "       reviewerID     reviewerName  \\\n",
              "0  A2MPIVS0KSY8O0            Sonja   \n",
              "1  A37QDGQ90TLQQX  Albert Wimberly   \n",
              "2  A3S8MFLN2HZ7RI       footsie517   \n",
              "\n",
              "                                             summary  unixReviewTime  \n",
              "0                                              Tutus      1378771200  \n",
              "1  Great character development / compelling case ...      1358121600  \n",
              "2                                         Love it!!!      1388880000  "
            ],
            "text/html": [
              "<div>\n",
              "<style scoped>\n",
              "    .dataframe tbody tr th:only-of-type {\n",
              "        vertical-align: middle;\n",
              "    }\n",
              "\n",
              "    .dataframe tbody tr th {\n",
              "        vertical-align: top;\n",
              "    }\n",
              "\n",
              "    .dataframe thead th {\n",
              "        text-align: right;\n",
              "    }\n",
              "</style>\n",
              "<table border=\"1\" class=\"dataframe\">\n",
              "  <thead>\n",
              "    <tr style=\"text-align: right;\">\n",
              "      <th></th>\n",
              "      <th>title</th>\n",
              "      <th>asin</th>\n",
              "      <th>helpful</th>\n",
              "      <th>overall</th>\n",
              "      <th>reviewText</th>\n",
              "      <th>reviewTime</th>\n",
              "      <th>reviewerID</th>\n",
              "      <th>reviewerName</th>\n",
              "      <th>summary</th>\n",
              "      <th>unixReviewTime</th>\n",
              "    </tr>\n",
              "  </thead>\n",
              "  <tbody>\n",
              "    <tr>\n",
              "      <th>0</th>\n",
              "      <td>Adult Ballet Tutu Yellow</td>\n",
              "      <td>0000032034</td>\n",
              "      <td>[11, 12]</td>\n",
              "      <td>5.0</td>\n",
              "      <td>Purchased and wore these tutus for the Portlan...</td>\n",
              "      <td>09 10, 2013</td>\n",
              "      <td>A2MPIVS0KSY8O0</td>\n",
              "      <td>Sonja</td>\n",
              "      <td>Tutus</td>\n",
              "      <td>1378771200</td>\n",
              "    </tr>\n",
              "    <tr>\n",
              "      <th>1</th>\n",
              "      <td>Along Came a Spider</td>\n",
              "      <td>0006476155</td>\n",
              "      <td>[0, 0]</td>\n",
              "      <td>5.0</td>\n",
              "      <td>Great development of characters, you begin to ...</td>\n",
              "      <td>01 14, 2013</td>\n",
              "      <td>A37QDGQ90TLQQX</td>\n",
              "      <td>Albert Wimberly</td>\n",
              "      <td>Great character development / compelling case ...</td>\n",
              "      <td>1358121600</td>\n",
              "    </tr>\n",
              "    <tr>\n",
              "      <th>2</th>\n",
              "      <td>Along Came a Spider</td>\n",
              "      <td>0006476155</td>\n",
              "      <td>[0, 0]</td>\n",
              "      <td>4.0</td>\n",
              "      <td>Always a true fan of James Patterson. He knows...</td>\n",
              "      <td>01 5, 2014</td>\n",
              "      <td>A3S8MFLN2HZ7RI</td>\n",
              "      <td>footsie517</td>\n",
              "      <td>Love it!!!</td>\n",
              "      <td>1388880000</td>\n",
              "    </tr>\n",
              "  </tbody>\n",
              "</table>\n",
              "</div>"
            ]
          },
          "metadata": {},
          "execution_count": 27
        }
      ]
    },
    {
      "cell_type": "code",
      "source": [
        "df_sample.shape"
      ],
      "metadata": {
        "colab": {
          "base_uri": "https://localhost:8080/"
        },
        "id": "8bEUNlot8Xzm",
        "outputId": "7c1be932-d704-4559-a96c-cac1d4abc1f2"
      },
      "execution_count": null,
      "outputs": [
        {
          "output_type": "execute_result",
          "data": {
            "text/plain": [
              "(672885, 10)"
            ]
          },
          "metadata": {},
          "execution_count": 28
        }
      ]
    },
    {
      "cell_type": "code",
      "source": [
        "df_train = df_sample.iloc[0:int(df_sample.shape[0] * 0.99),:]"
      ],
      "metadata": {
        "id": "8uu0z5bL9Aoo"
      },
      "execution_count": null,
      "outputs": []
    },
    {
      "cell_type": "code",
      "source": [
        "df_train.shape"
      ],
      "metadata": {
        "colab": {
          "base_uri": "https://localhost:8080/"
        },
        "id": "IyEcB1fW9PdE",
        "outputId": "467708ab-bfb9-4529-fcd0-a721bdf58e66"
      },
      "execution_count": null,
      "outputs": [
        {
          "output_type": "execute_result",
          "data": {
            "text/plain": [
              "(666156, 10)"
            ]
          },
          "metadata": {},
          "execution_count": 30
        }
      ]
    },
    {
      "cell_type": "code",
      "source": [
        "df_test = df_sample.iloc[int(df_sample.shape[0] * 0.99):df_sample.shape[0],:]"
      ],
      "metadata": {
        "id": "cB4Mctby9A0G"
      },
      "execution_count": null,
      "outputs": []
    },
    {
      "cell_type": "code",
      "source": [
        "df_test.shape"
      ],
      "metadata": {
        "colab": {
          "base_uri": "https://localhost:8080/"
        },
        "id": "QrPHP-x09fqb",
        "outputId": "1f239132-fcfe-44be-ba31-01ae4b40da64"
      },
      "execution_count": null,
      "outputs": [
        {
          "output_type": "execute_result",
          "data": {
            "text/plain": [
              "(6729, 10)"
            ]
          },
          "metadata": {},
          "execution_count": 32
        }
      ]
    },
    {
      "cell_type": "code",
      "source": [
        "df_train.to_csv('./sample.csv', sep=';', index=False)"
      ],
      "metadata": {
        "id": "XOLiFums5j3m"
      },
      "execution_count": null,
      "outputs": []
    },
    {
      "cell_type": "code",
      "source": [
        "df_test.to_csv('./test.csv', sep=';', index=False)"
      ],
      "metadata": {
        "id": "I0c5mkjx9kQ1"
      },
      "execution_count": null,
      "outputs": []
    },
    {
      "cell_type": "code",
      "source": [],
      "metadata": {
        "id": "Y2XUKBAM5qHZ"
      },
      "execution_count": null,
      "outputs": []
    }
  ]
}